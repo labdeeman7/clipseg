{
 "cells": [
  {
   "cell_type": "code",
   "execution_count": 7,
   "metadata": {},
   "outputs": [
    {
     "name": "stdout",
     "output_type": "stream",
     "text": [
      "{'normalize': True, 'image_size': 352, 'batch_size': 4, 'name': 'pc', 'metric': 'metrics.FixedIntervalMetrics', 'test_dataset': 'phrasecut', 'split': 'test', 'mask': 'text', 'label_support': True, 'sigmoid': True}\n",
      "config {'normalize': True, 'image_size': 352, 'batch_size': 4, 'name': 'pc', 'metric': 'metrics.FixedIntervalMetrics', 'test_dataset': 'phrasecut', 'split': 'test', 'mask': 'text', 'label_support': True, 'sigmoid': True}\n",
      "PhraseHandler loading nar_count: D:\\PhD\\repositories\\clipseg\\third_party\\PhraseCutDataset\\data\\VGPhraseCut_v0\\name_att_rel_count.json\n",
      "Number of categories: 1272 / 3103, frequency thresh: 21 (excluding [INV] [UNK])\n",
      "Number of attributes: 593 / 12143, frequency thresh: 21 (excluding [INV] [UNK])\n",
      "Number of relationships: 126 / 3110, frequency thresh: 21 (excluding [INV] [UNK])\n",
      "RefVGLoader loading img_info: D:\\PhD\\repositories\\clipseg\\third_party\\PhraseCutDataset\\data\\VGPhraseCut_v0\\image_data_split.json\n",
      "RefVGLoader loading refer data\n",
      "RefVGLoader loading D:\\PhD\\repositories\\clipseg\\third_party\\PhraseCutDataset\\data\\VGPhraseCut_v0\\refer_test.json\n",
      "RefVGLoader preparing data\n",
      "split test: 2545 imgs, 14354 tasks\n",
      "RefVGLoader ready.\n",
      "shift 0\n"
     ]
    }
   ],
   "source": [
    "%run -i score.py phrasecut.yaml 0 0"
   ]
  },
  {
   "cell_type": "code",
   "execution_count": 1,
   "metadata": {},
   "outputs": [
    {
     "name": "stderr",
     "output_type": "stream",
     "text": [
      "d:\\PhD\\repositories\\clipseg\\.CLIPSEG\\lib\\site-packages\\tqdm\\auto.py:22: TqdmWarning: IProgress not found. Please update jupyter and ipywidgets. See https://ipywidgets.readthedocs.io/en/stable/user_install.html\n",
      "  from .autonotebook import tqdm as notebook_tqdm\n"
     ]
    }
   ],
   "source": [
    "import torch"
   ]
  },
  {
   "cell_type": "code",
   "execution_count": 4,
   "metadata": {},
   "outputs": [],
   "source": [
    "import numpy as np"
   ]
  },
  {
   "cell_type": "code",
   "execution_count": 16,
   "metadata": {},
   "outputs": [],
   "source": [
    "a = np.ones([1,1,25,25])"
   ]
  },
  {
   "cell_type": "code",
   "execution_count": 17,
   "metadata": {},
   "outputs": [
    {
     "data": {
      "text/plain": [
       "(25, 25)"
      ]
     },
     "execution_count": 17,
     "metadata": {},
     "output_type": "execute_result"
    }
   ],
   "source": [
    "np.squeeze(a ,axis=(0,1)).shape"
   ]
  },
  {
   "cell_type": "code",
   "execution_count": 19,
   "metadata": {},
   "outputs": [
    {
     "data": {
      "text/plain": [
       "(1, 25, 25)"
      ]
     },
     "execution_count": 19,
     "metadata": {},
     "output_type": "execute_result"
    }
   ],
   "source": [
    "a[0].shape"
   ]
  },
  {
   "cell_type": "code",
   "execution_count": null,
   "metadata": {},
   "outputs": [],
   "source": []
  }
 ],
 "metadata": {
  "kernelspec": {
   "display_name": ".CLIPSEG",
   "language": "python",
   "name": "python3"
  },
  "language_info": {
   "codemirror_mode": {
    "name": "ipython",
    "version": 3
   },
   "file_extension": ".py",
   "mimetype": "text/x-python",
   "name": "python",
   "nbconvert_exporter": "python",
   "pygments_lexer": "ipython3",
   "version": "3.9.5 (tags/v3.9.5:0a7dcbd, May  3 2021, 17:27:52) [MSC v.1928 64 bit (AMD64)]"
  },
  "orig_nbformat": 4,
  "vscode": {
   "interpreter": {
    "hash": "830aef9cd6859694268c088411cb058faec24a5a65da1f26d3ab795eccfbf0f9"
   }
  }
 },
 "nbformat": 4,
 "nbformat_minor": 2
}
