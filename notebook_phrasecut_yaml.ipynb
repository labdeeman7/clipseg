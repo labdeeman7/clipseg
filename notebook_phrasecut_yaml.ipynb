{
 "cells": [
  {
   "cell_type": "code",
   "execution_count": null,
   "metadata": {},
   "outputs": [],
   "source": [
    "import yaml"
   ]
  },
  {
   "attachments": {},
   "cell_type": "markdown",
   "metadata": {},
   "source": [
    "sys argv is from the command line, all the things after python.\n",
    "\n",
    "Example printing sys.argv and len(sys.argv)\n",
    "\n",
    "> python print_args.py\n",
    "['print_args.py'] 1\n",
    "\n",
    "> python print_args.py foo and bar\n",
    "['print_args.py', 'foo', 'and', 'bar'] 4\n",
    "\n",
    "> python print_args.py \"foo and bar\"\n",
    "['print_args.py', 'foo and bar'] 2\n",
    "\n",
    "> python print_args.py \"foo and bar\" and baz\n",
    "['print_args.py', 'foo and bar', 'and', 'baz'] \n",
    "\n",
    "First variable is alwaYs the name of the script then everything that follows"
   ]
  },
  {
   "attachments": {},
   "cell_type": "markdown",
   "metadata": {},
   "source": [
    "python training.py phrasecut.yaml 0 argv is [training.py, phrascut.yaml, 0.]"
   ]
  },
  {
   "cell_type": "code",
   "execution_count": null,
   "metadata": {},
   "outputs": [],
   "source": [
    "experiment_name = \"phrasecut.yaml\"\n",
    "experiment_id = 0\n",
    "\n",
    "yaml_config = yaml.load(open(f'experiments/{experiment_name}'), Loader=yaml.SafeLoader) \n",
    "\n",
    "# config = yaml_config['configuration']\n",
    "# config = {**config, **yaml_config['individual_configurations'][experiment_id]}\n",
    "# config = AttributeDict(config)"
   ]
  },
  {
   "cell_type": "code",
   "execution_count": null,
   "metadata": {},
   "outputs": [],
   "source": [
    "yaml_config.keys()"
   ]
  },
  {
   "cell_type": "code",
   "execution_count": null,
   "metadata": {},
   "outputs": [],
   "source": [
    "config = yaml_config['configuration']\n",
    "config"
   ]
  },
  {
   "cell_type": "code",
   "execution_count": 1,
   "metadata": {},
   "outputs": [],
   "source": [
    "import yaml\n",
    "import json"
   ]
  },
  {
   "cell_type": "code",
   "execution_count": 2,
   "metadata": {},
   "outputs": [],
   "source": [
    "train_img_info = json.load(open(\"datasets/PhraseCut/VGPhraseCut_v0/refer_train.json\"))"
   ]
  },
  {
   "cell_type": "code",
   "execution_count": 3,
   "metadata": {},
   "outputs": [
    {
     "data": {
      "text/plain": [
       "{'phrase_structure': {'attributes': ['gray'],\n",
       "  'type': 'name',\n",
       "  'name': 'floor',\n",
       "  'relation_descriptions': [],\n",
       "  'relation_ids': []},\n",
       " 'task_id': '4350__1558119',\n",
       " 'instance_boxes': [[1.5333333333333334,\n",
       "   210.06666666666666,\n",
       "   376.66666666666663,\n",
       "   66.16666666666669]],\n",
       " 'image_id': 4350,\n",
       " 'ann_ids': [1558119],\n",
       " 'phrase': 'gray floor',\n",
       " 'Polygons': [[[[11.5, 240.73333333333332],\n",
       "    [4.6000000000000005, 246.10000000000002],\n",
       "    [5.366666666666667, 257.6],\n",
       "    [13.799999999999999, 258.3666666666667],\n",
       "    [29.133333333333336, 258.3666666666667],\n",
       "    [55.199999999999996, 256.8333333333333],\n",
       "    [78.2, 253.76666666666665],\n",
       "    [105.03333333333333, 252.23333333333335],\n",
       "    [124.2, 253.76666666666665],\n",
       "    [144.9, 262.2],\n",
       "    [180.93333333333334, 266.03333333333336],\n",
       "    [211.60000000000002, 262.2],\n",
       "    [227.7, 259.1333333333333],\n",
       "    [229.23333333333335, 251.46666666666664],\n",
       "    [220.03333333333333, 245.33333333333334],\n",
       "    [204.70000000000002, 244.56666666666663],\n",
       "    [237.66666666666669, 240.73333333333332],\n",
       "    [251.46666666666664, 236.13333333333333],\n",
       "    [247.63333333333333, 227.7],\n",
       "    [230.76666666666668, 227.7],\n",
       "    [226.16666666666666, 223.86666666666667],\n",
       "    [227.7, 214.66666666666666],\n",
       "    [228.46666666666667, 210.06666666666666],\n",
       "    [251.46666666666664, 211.60000000000002],\n",
       "    [264.5, 210.06666666666666],\n",
       "    [285.9666666666667, 213.9],\n",
       "    [318.93333333333334, 222.33333333333334],\n",
       "    [354.2, 243.03333333333333],\n",
       "    [374.9, 273.7],\n",
       "    [377.2, 274.4666666666667],\n",
       "    [1.5333333333333334, 275.23333333333335]]]]}"
      ]
     },
     "execution_count": 3,
     "metadata": {},
     "output_type": "execute_result"
    }
   ],
   "source": [
    "train_img_info[338]"
   ]
  },
  {
   "cell_type": "code",
   "execution_count": null,
   "metadata": {},
   "outputs": [],
   "source": []
  }
 ],
 "metadata": {
  "kernelspec": {
   "display_name": ".CLIPSEG",
   "language": "python",
   "name": "python3"
  },
  "language_info": {
   "codemirror_mode": {
    "name": "ipython",
    "version": 3
   },
   "file_extension": ".py",
   "mimetype": "text/x-python",
   "name": "python",
   "nbconvert_exporter": "python",
   "pygments_lexer": "ipython3",
   "version": "3.9.5"
  },
  "orig_nbformat": 4,
  "vscode": {
   "interpreter": {
    "hash": "830aef9cd6859694268c088411cb058faec24a5a65da1f26d3ab795eccfbf0f9"
   }
  }
 },
 "nbformat": 4,
 "nbformat_minor": 2
}
