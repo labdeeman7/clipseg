{
 "cells": [
  {
   "cell_type": "code",
   "execution_count": 1,
   "metadata": {},
   "outputs": [
    {
     "name": "stderr",
     "output_type": "stream",
     "text": [
      "d:\\PhD\\repositories\\clipseg\\.CLIPSEG\\lib\\site-packages\\tqdm\\auto.py:22: TqdmWarning: IProgress not found. Please update jupyter and ipywidgets. See https://ipywidgets.readthedocs.io/en/stable/user_install.html\n",
      "  from .autonotebook import tqdm as notebook_tqdm\n",
      "Failed to detect the name of this notebook, you can set it manually with the WANDB_NOTEBOOK_NAME environment variable to enable code saving.\n"
     ]
    },
    {
     "ename": "AssertionError",
     "evalue": "",
     "output_type": "error",
     "traceback": [
      "\u001b[1;31m---------------------------------------------------------------------------\u001b[0m",
      "\u001b[1;31mKeyboardInterrupt\u001b[0m                         Traceback (most recent call last)",
      "File \u001b[1;32md:\\PhD\\repositories\\clipseg\\.CLIPSEG\\lib\\site-packages\\wandb\\sdk\\wandb_init.py:1105\u001b[0m, in \u001b[0;36minit\u001b[1;34m(job_type, dir, config, project, entity, reinit, tags, group, name, notes, magic, config_exclude_keys, config_include_keys, anonymous, mode, allow_val_change, resume, force, tensorboard, sync_tensorboard, monitor_gym, save_code, id, settings)\u001b[0m\n\u001b[0;32m   1104\u001b[0m wi \u001b[39m=\u001b[39m _WandbInit()\n\u001b[1;32m-> 1105\u001b[0m wi\u001b[39m.\u001b[39;49msetup(kwargs)\n\u001b[0;32m   1106\u001b[0m except_exit \u001b[39m=\u001b[39m wi\u001b[39m.\u001b[39msettings\u001b[39m.\u001b[39m_except_exit\n",
      "File \u001b[1;32md:\\PhD\\repositories\\clipseg\\.CLIPSEG\\lib\\site-packages\\wandb\\sdk\\wandb_init.py:167\u001b[0m, in \u001b[0;36m_WandbInit.setup\u001b[1;34m(self, kwargs)\u001b[0m\n\u001b[0;32m    165\u001b[0m         \u001b[39mself\u001b[39m\u001b[39m.\u001b[39mprinter\u001b[39m.\u001b[39mdisplay(line, level\u001b[39m=\u001b[39m\u001b[39m\"\u001b[39m\u001b[39mwarn\u001b[39m\u001b[39m\"\u001b[39m)\n\u001b[1;32m--> 167\u001b[0m \u001b[39mself\u001b[39m\u001b[39m.\u001b[39m_wl \u001b[39m=\u001b[39m wandb_setup\u001b[39m.\u001b[39;49msetup()\n\u001b[0;32m    168\u001b[0m \u001b[39m# Make sure we have a logger setup (might be an early logger)\u001b[39;00m\n",
      "File \u001b[1;32md:\\PhD\\repositories\\clipseg\\.CLIPSEG\\lib\\site-packages\\wandb\\sdk\\wandb_setup.py:307\u001b[0m, in \u001b[0;36msetup\u001b[1;34m(settings)\u001b[0m\n\u001b[0;32m    306\u001b[0m \u001b[39mdef\u001b[39;00m \u001b[39msetup\u001b[39m(settings\u001b[39m=\u001b[39m\u001b[39mNone\u001b[39;00m) \u001b[39m-\u001b[39m\u001b[39m>\u001b[39m Optional[\u001b[39m\"\u001b[39m\u001b[39m_WandbSetup\u001b[39m\u001b[39m\"\u001b[39m]:\n\u001b[1;32m--> 307\u001b[0m     ret \u001b[39m=\u001b[39m _setup(settings\u001b[39m=\u001b[39;49msettings)\n\u001b[0;32m    308\u001b[0m     \u001b[39mreturn\u001b[39;00m ret\n",
      "File \u001b[1;32md:\\PhD\\repositories\\clipseg\\.CLIPSEG\\lib\\site-packages\\wandb\\sdk\\wandb_setup.py:302\u001b[0m, in \u001b[0;36m_setup\u001b[1;34m(settings, _reset)\u001b[0m\n\u001b[0;32m    301\u001b[0m     \u001b[39mreturn\u001b[39;00m\n\u001b[1;32m--> 302\u001b[0m wl \u001b[39m=\u001b[39m _WandbSetup(settings\u001b[39m=\u001b[39;49msettings)\n\u001b[0;32m    303\u001b[0m \u001b[39mreturn\u001b[39;00m wl\n",
      "File \u001b[1;32md:\\PhD\\repositories\\clipseg\\.CLIPSEG\\lib\\site-packages\\wandb\\sdk\\wandb_setup.py:288\u001b[0m, in \u001b[0;36m_WandbSetup.__init__\u001b[1;34m(self, settings)\u001b[0m\n\u001b[0;32m    287\u001b[0m     \u001b[39mreturn\u001b[39;00m\n\u001b[1;32m--> 288\u001b[0m _WandbSetup\u001b[39m.\u001b[39m_instance \u001b[39m=\u001b[39m _WandbSetup__WandbSetup(settings\u001b[39m=\u001b[39;49msettings, pid\u001b[39m=\u001b[39;49mpid)\n",
      "File \u001b[1;32md:\\PhD\\repositories\\clipseg\\.CLIPSEG\\lib\\site-packages\\wandb\\sdk\\wandb_setup.py:106\u001b[0m, in \u001b[0;36m_WandbSetup__WandbSetup.__init__\u001b[1;34m(self, pid, settings, environ)\u001b[0m\n\u001b[0;32m    105\u001b[0m \u001b[39mself\u001b[39m\u001b[39m.\u001b[39m_check()\n\u001b[1;32m--> 106\u001b[0m \u001b[39mself\u001b[39;49m\u001b[39m.\u001b[39;49m_setup()\n\u001b[0;32m    108\u001b[0m tracelog_mode \u001b[39m=\u001b[39m \u001b[39mself\u001b[39m\u001b[39m.\u001b[39m_settings\u001b[39m.\u001b[39m_tracelog\n",
      "File \u001b[1;32md:\\PhD\\repositories\\clipseg\\.CLIPSEG\\lib\\site-packages\\wandb\\sdk\\wandb_setup.py:234\u001b[0m, in \u001b[0;36m_WandbSetup__WandbSetup._setup\u001b[1;34m(self)\u001b[0m\n\u001b[0;32m    233\u001b[0m \u001b[39mdef\u001b[39;00m \u001b[39m_setup\u001b[39m(\u001b[39mself\u001b[39m):\n\u001b[1;32m--> 234\u001b[0m     \u001b[39mself\u001b[39;49m\u001b[39m.\u001b[39;49m_setup_manager()\n\u001b[0;32m    236\u001b[0m     sweep_path \u001b[39m=\u001b[39m \u001b[39mself\u001b[39m\u001b[39m.\u001b[39m_settings\u001b[39m.\u001b[39msweep_param_path\n",
      "File \u001b[1;32md:\\PhD\\repositories\\clipseg\\.CLIPSEG\\lib\\site-packages\\wandb\\sdk\\wandb_setup.py:262\u001b[0m, in \u001b[0;36m_WandbSetup__WandbSetup._setup_manager\u001b[1;34m(self)\u001b[0m\n\u001b[0;32m    261\u001b[0m     \u001b[39mreturn\u001b[39;00m\n\u001b[1;32m--> 262\u001b[0m \u001b[39mself\u001b[39m\u001b[39m.\u001b[39m_manager \u001b[39m=\u001b[39m wandb_manager\u001b[39m.\u001b[39;49m_Manager(settings\u001b[39m=\u001b[39;49m\u001b[39mself\u001b[39;49m\u001b[39m.\u001b[39;49m_settings)\n",
      "File \u001b[1;32md:\\PhD\\repositories\\clipseg\\.CLIPSEG\\lib\\site-packages\\wandb\\sdk\\wandb_manager.py:112\u001b[0m, in \u001b[0;36m_Manager.__init__\u001b[1;34m(self, settings)\u001b[0m\n\u001b[0;32m    111\u001b[0m \u001b[39mif\u001b[39;00m \u001b[39mnot\u001b[39;00m token:\n\u001b[1;32m--> 112\u001b[0m     \u001b[39mself\u001b[39;49m\u001b[39m.\u001b[39;49m_service\u001b[39m.\u001b[39;49mstart()\n\u001b[0;32m    113\u001b[0m     host \u001b[39m=\u001b[39m \u001b[39m\"\u001b[39m\u001b[39mlocalhost\u001b[39m\u001b[39m\"\u001b[39m\n",
      "File \u001b[1;32md:\\PhD\\repositories\\clipseg\\.CLIPSEG\\lib\\site-packages\\wandb\\sdk\\service\\service.py:137\u001b[0m, in \u001b[0;36m_Service.start\u001b[1;34m(self)\u001b[0m\n\u001b[0;32m    136\u001b[0m \u001b[39mdef\u001b[39;00m \u001b[39mstart\u001b[39m(\u001b[39mself\u001b[39m) \u001b[39m-\u001b[39m\u001b[39m>\u001b[39m \u001b[39mNone\u001b[39;00m:\n\u001b[1;32m--> 137\u001b[0m     \u001b[39mself\u001b[39;49m\u001b[39m.\u001b[39;49m_launch_server()\n",
      "File \u001b[1;32md:\\PhD\\repositories\\clipseg\\.CLIPSEG\\lib\\site-packages\\wandb\\sdk\\service\\service.py:130\u001b[0m, in \u001b[0;36m_Service._launch_server\u001b[1;34m(self)\u001b[0m\n\u001b[0;32m    129\u001b[0m \u001b[39mself\u001b[39m\u001b[39m.\u001b[39m_startup_debug_print(\u001b[39m\"\u001b[39m\u001b[39mwait_ports\u001b[39m\u001b[39m\"\u001b[39m)\n\u001b[1;32m--> 130\u001b[0m ports_found \u001b[39m=\u001b[39m \u001b[39mself\u001b[39;49m\u001b[39m.\u001b[39;49m_wait_for_ports(fname, proc\u001b[39m=\u001b[39;49minternal_proc)\n\u001b[0;32m    131\u001b[0m \u001b[39mself\u001b[39m\u001b[39m.\u001b[39m_startup_debug_print(\u001b[39m\"\u001b[39m\u001b[39mwait_ports_done\u001b[39m\u001b[39m\"\u001b[39m)\n",
      "File \u001b[1;32md:\\PhD\\repositories\\clipseg\\.CLIPSEG\\lib\\site-packages\\wandb\\sdk\\service\\service.py:69\u001b[0m, in \u001b[0;36m_Service._wait_for_ports\u001b[1;34m(self, fname, proc)\u001b[0m\n\u001b[0;32m     68\u001b[0m \u001b[39mif\u001b[39;00m \u001b[39mnot\u001b[39;00m os\u001b[39m.\u001b[39mpath\u001b[39m.\u001b[39misfile(fname):\n\u001b[1;32m---> 69\u001b[0m     time\u001b[39m.\u001b[39;49msleep(\u001b[39m0.2\u001b[39;49m)\n\u001b[0;32m     70\u001b[0m     \u001b[39mcontinue\u001b[39;00m\n",
      "\u001b[1;31mKeyboardInterrupt\u001b[0m: ",
      "\nDuring handling of the above exception, another exception occurred:\n",
      "\u001b[1;31mAssertionError\u001b[0m                            Traceback (most recent call last)",
      "File \u001b[1;32mD:\\PhD\\repositories\\clipseg\\training_endovis2017.py:234\u001b[0m\n\u001b[0;32m    230\u001b[0m         \u001b[39mprint\u001b[39m(\u001b[39m'\u001b[39m\u001b[39mepoch complete\u001b[39m\u001b[39m'\u001b[39m) \u001b[39m#😉 Nice. Lets try.\u001b[39;00m\n\u001b[0;32m    233\u001b[0m \u001b[39mif\u001b[39;00m \u001b[39m__name__\u001b[39m \u001b[39m==\u001b[39m \u001b[39m'\u001b[39m\u001b[39m__main__\u001b[39m\u001b[39m'\u001b[39m:\n\u001b[1;32m--> 234\u001b[0m     main()\n",
      "File \u001b[1;32mD:\\PhD\\repositories\\clipseg\\training_endovis2017.py:72\u001b[0m, in \u001b[0;36mmain\u001b[1;34m()\u001b[0m\n\u001b[0;32m     68\u001b[0m config \u001b[39m=\u001b[39m training_config_from_cli_args() \u001b[39m#😉it is a config style work, and we get config from cli it has to do with yaml files too. I need to use it and understand it later.\u001b[39;00m\n\u001b[0;32m     70\u001b[0m \u001b[39m#😉 logging while training\u001b[39;00m\n\u001b[0;32m     71\u001b[0m \u001b[39m#2 wandb\u001b[39;00m\n\u001b[1;32m---> 72\u001b[0m experiment \u001b[39m=\u001b[39m wandb\u001b[39m.\u001b[39;49minit(project\u001b[39m=\u001b[39;49m\u001b[39m'\u001b[39;49m\u001b[39mclipseg_endovis2017\u001b[39;49m\u001b[39m'\u001b[39;49m, resume\u001b[39m=\u001b[39;49m\u001b[39m'\u001b[39;49m\u001b[39mallow\u001b[39;49m\u001b[39m'\u001b[39;49m, anonymous\u001b[39m=\u001b[39;49m\u001b[39m'\u001b[39;49m\u001b[39mmust\u001b[39;49m\u001b[39m'\u001b[39;49m)\n\u001b[0;32m     73\u001b[0m experiment\u001b[39m.\u001b[39mconfig\u001b[39m.\u001b[39mupdate(\n\u001b[0;32m     74\u001b[0m     config\n\u001b[0;32m     75\u001b[0m )  \n\u001b[0;32m     77\u001b[0m val_interval, best_val_loss, best_val_score \u001b[39m=\u001b[39m config\u001b[39m.\u001b[39mval_interval, \u001b[39mfloat\u001b[39m(\u001b[39m'\u001b[39m\u001b[39minf\u001b[39m\u001b[39m'\u001b[39m), \u001b[39mfloat\u001b[39m(\u001b[39m'\u001b[39m\u001b[39m-inf\u001b[39m\u001b[39m'\u001b[39m) \u001b[39m#😉 Intializations. \u001b[39;00m\n",
      "File \u001b[1;32md:\\PhD\\repositories\\clipseg\\.CLIPSEG\\lib\\site-packages\\wandb\\sdk\\wandb_init.py:1128\u001b[0m, in \u001b[0;36minit\u001b[1;34m(job_type, dir, config, project, entity, reinit, tags, group, name, notes, magic, config_exclude_keys, config_include_keys, anonymous, mode, allow_val_change, resume, force, tensorboard, sync_tensorboard, monitor_gym, save_code, id, settings)\u001b[0m\n\u001b[0;32m   1126\u001b[0m     \u001b[39mraise\u001b[39;00m\n\u001b[0;32m   1127\u001b[0m \u001b[39mexcept\u001b[39;00m \u001b[39mKeyboardInterrupt\u001b[39;00m \u001b[39mas\u001b[39;00m e:\n\u001b[1;32m-> 1128\u001b[0m     \u001b[39massert\u001b[39;00m logger\n\u001b[0;32m   1129\u001b[0m     logger\u001b[39m.\u001b[39mwarning(\u001b[39m\"\u001b[39m\u001b[39minterrupted\u001b[39m\u001b[39m\"\u001b[39m, exc_info\u001b[39m=\u001b[39me)\n\u001b[0;32m   1130\u001b[0m     \u001b[39mraise\u001b[39;00m e\n",
      "\u001b[1;31mAssertionError\u001b[0m: "
     ]
    }
   ],
   "source": [
    "%run -i training_endovis2017.py endovis2017.yaml 0"
   ]
  },
  {
   "cell_type": "code",
   "execution_count": null,
   "metadata": {},
   "outputs": [],
   "source": []
  }
 ],
 "metadata": {
  "kernelspec": {
   "display_name": ".CLIPSEG",
   "language": "python",
   "name": "python3"
  },
  "language_info": {
   "codemirror_mode": {
    "name": "ipython",
    "version": 3
   },
   "file_extension": ".py",
   "mimetype": "text/x-python",
   "name": "python",
   "nbconvert_exporter": "python",
   "pygments_lexer": "ipython3",
   "version": "3.9.5 (tags/v3.9.5:0a7dcbd, May  3 2021, 17:27:52) [MSC v.1928 64 bit (AMD64)]"
  },
  "orig_nbformat": 4,
  "vscode": {
   "interpreter": {
    "hash": "830aef9cd6859694268c088411cb058faec24a5a65da1f26d3ab795eccfbf0f9"
   }
  }
 },
 "nbformat": 4,
 "nbformat_minor": 2
}
