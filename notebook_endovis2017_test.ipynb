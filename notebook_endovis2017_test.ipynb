{
 "cells": [
  {
   "attachments": {},
   "cell_type": "markdown",
   "metadata": {},
   "source": [
    "## Evaluate finetuned  "
   ]
  },
  {
   "cell_type": "code",
   "execution_count": 1,
   "metadata": {},
   "outputs": [
    {
     "name": "stdout",
     "output_type": "stream",
     "text": [
      "The autoreload extension is already loaded. To reload it, use:\n",
      "  %reload_ext autoreload\n"
     ]
    }
   ],
   "source": [
    "%load_ext autoreload\n",
    "%autoreload 2"
   ]
  },
  {
   "cell_type": "code",
   "execution_count": 10,
   "metadata": {},
   "outputs": [],
   "source": [
    "import numpy as np"
   ]
  },
  {
   "cell_type": "code",
   "execution_count": 11,
   "metadata": {},
   "outputs": [
    {
     "name": "stdout",
     "output_type": "stream",
     "text": [
      "{'normalize': True, 'image_size': 352, 'batch_size': 16, 'name': 'pc', 'metric': 'metrics.FixedIntervalMetrics', 'test_dataset': 'Endovis2017', 'split': 'test', 'mask': 'text', 'label_support': True, 'sigmoid': True, 'save_pred_dir': './store/Endovis2017_pretrained/', 'complex_trans_conv': True}\n",
      "config Endovis2017 {'normalize': True, 'image_size': 352, 'batch_size': 16, 'name': 'pc', 'metric': 'metrics.FixedIntervalMetrics', 'test_dataset': 'Endovis2017', 'split': 'test', 'mask': 'text', 'label_support': True, 'sigmoid': True, 'save_pred_dir': './store/Endovis2017_pretrained/', 'complex_trans_conv': True}\n"
     ]
    }
   ],
   "source": [
    "%run -i score.py endovis2017.yaml 1 1"
   ]
  },
  {
   "cell_type": "code",
   "execution_count": 3,
   "metadata": {},
   "outputs": [
    {
     "name": "stdout",
     "output_type": "stream",
     "text": [
      "Jaccard (IoU): mean=86.30, std=0.0858\n",
      "Dice: mean=92.38, std=0.0586\n"
     ]
    }
   ],
   "source": [
    "%run -i evaluate.py --problem_type \"binary\" --pred_path \"./store/Endovis2017/\" "
   ]
  },
  {
   "cell_type": "code",
   "execution_count": 4,
   "metadata": {},
   "outputs": [
    {
     "name": "stdout",
     "output_type": "stream",
     "text": [
      "Jaccard (IoU): mean=69.95, std=0.2398\n",
      "Dice: mean=77.67, std=0.2256\n"
     ]
    }
   ],
   "source": [
    "%run -i evaluate.py --problem_type \"instrument\" --pred_path \"./store/Endovis2017/\" "
   ]
  },
  {
   "cell_type": "code",
   "execution_count": 5,
   "metadata": {},
   "outputs": [
    {
     "name": "stdout",
     "output_type": "stream",
     "text": [
      "Jaccard (IoU): mean=57.02, std=0.1562\n",
      "Dice: mean=68.34, std=0.1583\n"
     ]
    }
   ],
   "source": [
    "%run -i evaluate.py --problem_type \"parts\" --pred_path \"./store/Endovis2017/\" "
   ]
  },
  {
   "attachments": {},
   "cell_type": "markdown",
   "metadata": {},
   "source": [
    "# Evaluate Pretrained"
   ]
  },
  {
   "cell_type": "code",
   "execution_count": 2,
   "metadata": {},
   "outputs": [
    {
     "name": "stderr",
     "output_type": "stream",
     "text": [
      "d:\\PhD\\repositories\\clipseg\\.CLIPSEG\\lib\\site-packages\\tqdm\\auto.py:22: TqdmWarning: IProgress not found. Please update jupyter and ipywidgets. See https://ipywidgets.readthedocs.io/en/stable/user_install.html\n",
      "  from .autonotebook import tqdm as notebook_tqdm\n"
     ]
    },
    {
     "name": "stdout",
     "output_type": "stream",
     "text": [
      "{'normalize': True, 'image_size': 352, 'batch_size': 16, 'name': 'pc', 'metric': 'metrics.FixedIntervalMetrics', 'test_dataset': 'Endovis2017', 'split': 'test', 'mask': 'text', 'label_support': True, 'sigmoid': True, 'save_pred_dir': './store/Endovis2017_pretrained/', 'complex_trans_conv': True}\n",
      "config Endovis2017 {'normalize': True, 'image_size': 352, 'batch_size': 16, 'name': 'pc', 'metric': 'metrics.FixedIntervalMetrics', 'test_dataset': 'Endovis2017', 'split': 'test', 'mask': 'text', 'label_support': True, 'sigmoid': True, 'save_pred_dir': './store/Endovis2017_pretrained/', 'complex_trans_conv': True}\n",
      "metric computation on 8095 classes took 5.1s\n",
      "metric computation on 8095 classes took 1.3s\n",
      "pc fgiou_best       0.534\n",
      "pc fgiou_0.5        0.198\n",
      "pc fgiou_0.1        0.458\n",
      "pc fgiou_0.2        0.534\n",
      "pc fgiou_0.3        0.457\n",
      "pc biniou_best      0.700\n",
      "pc biniou_0.5       0.516\n",
      "pc biniou_0.1       0.617\n",
      "pc biniou_0.2       0.700\n",
      "pc biniou_0.3       0.662\n"
     ]
    }
   ],
   "source": [
    "%run -i score.py endovis2017.yaml 2 1"
   ]
  },
  {
   "cell_type": "code",
   "execution_count": 3,
   "metadata": {},
   "outputs": [
    {
     "name": "stdout",
     "output_type": "stream",
     "text": [
      "Jaccard (IoU): mean=34.47, std=0.2465\n",
      "Dice: mean=46.07, std=0.2877\n"
     ]
    }
   ],
   "source": [
    "%run -i evaluate.py --problem_type \"binary\" --pred_path \"./store/Endovis2017_pretrained/\" "
   ]
  },
  {
   "cell_type": "code",
   "execution_count": 4,
   "metadata": {},
   "outputs": [
    {
     "name": "stdout",
     "output_type": "stream",
     "text": [
      "Jaccard (IoU): mean=10.34, std=0.1642\n",
      "Dice: mean=14.48, std=0.2111\n"
     ]
    }
   ],
   "source": [
    "%run -i evaluate.py --problem_type \"instrument\" --pred_path \"./store/Endovis2017_pretrained/\" "
   ]
  },
  {
   "cell_type": "code",
   "execution_count": 6,
   "metadata": {},
   "outputs": [
    {
     "name": "stdout",
     "output_type": "stream",
     "text": [
      "Jaccard (IoU): mean=6.36, std=0.0579\n",
      "Dice: mean=9.78, std=0.0796\n"
     ]
    }
   ],
   "source": [
    "%run -i evaluate.py --problem_type \"parts\" --pred_path \"./store/Endovis2017_pretrained/\" "
   ]
  }
 ],
 "metadata": {
  "kernelspec": {
   "display_name": ".CLIPSEG",
   "language": "python",
   "name": "python3"
  },
  "language_info": {
   "codemirror_mode": {
    "name": "ipython",
    "version": 3
   },
   "file_extension": ".py",
   "mimetype": "text/x-python",
   "name": "python",
   "nbconvert_exporter": "python",
   "pygments_lexer": "ipython3",
   "version": "3.9.5 (tags/v3.9.5:0a7dcbd, May  3 2021, 17:27:52) [MSC v.1928 64 bit (AMD64)]"
  },
  "orig_nbformat": 4,
  "vscode": {
   "interpreter": {
    "hash": "830aef9cd6859694268c088411cb058faec24a5a65da1f26d3ab795eccfbf0f9"
   }
  }
 },
 "nbformat": 4,
 "nbformat_minor": 2
}
