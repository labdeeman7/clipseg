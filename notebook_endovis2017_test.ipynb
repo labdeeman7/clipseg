{
 "cells": [
  {
   "cell_type": "code",
   "execution_count": 1,
   "metadata": {},
   "outputs": [],
   "source": [
    "import numpy"
   ]
  },
  {
   "cell_type": "code",
   "execution_count": 3,
   "metadata": {},
   "outputs": [
    {
     "name": "stdout",
     "output_type": "stream",
     "text": [
      "Jaccard (IoU): mean=86.30, std=0.0858\n",
      "Dice: mean=92.38, std=0.0586\n"
     ]
    }
   ],
   "source": [
    "%run -i evaluate.py --problem_type \"binary\" --pred_path \"./store/Endovis2017/\" "
   ]
  },
  {
   "cell_type": "code",
   "execution_count": 4,
   "metadata": {},
   "outputs": [
    {
     "name": "stdout",
     "output_type": "stream",
     "text": [
      "Jaccard (IoU): mean=69.95, std=0.2398\n",
      "Dice: mean=77.67, std=0.2256\n"
     ]
    }
   ],
   "source": [
    "%run -i evaluate.py --problem_type \"instrument\" --pred_path \"./store/Endovis2017/\" "
   ]
  },
  {
   "cell_type": "code",
   "execution_count": 5,
   "metadata": {},
   "outputs": [
    {
     "name": "stdout",
     "output_type": "stream",
     "text": [
      "Jaccard (IoU): mean=57.02, std=0.1562\n",
      "Dice: mean=68.34, std=0.1583\n"
     ]
    }
   ],
   "source": [
    "%run -i evaluate.py --problem_type \"parts\" --pred_path \"./store/Endovis2017/\" "
   ]
  },
  {
   "cell_type": "code",
   "execution_count": null,
   "metadata": {},
   "outputs": [],
   "source": []
  }
 ],
 "metadata": {
  "kernelspec": {
   "display_name": "CLIPSEG",
   "language": "python",
   "name": "python3"
  },
  "language_info": {
   "codemirror_mode": {
    "name": "ipython",
    "version": 3
   },
   "file_extension": ".py",
   "mimetype": "text/x-python",
   "name": "python",
   "nbconvert_exporter": "python",
   "pygments_lexer": "ipython3",
   "version": "3.10.8"
  },
  "orig_nbformat": 4,
  "vscode": {
   "interpreter": {
    "hash": "d2167263909aa7626ec1259e2b8bbb8db2c3a024241d3080b2b73206991b3e85"
   }
  }
 },
 "nbformat": 4,
 "nbformat_minor": 2
}
