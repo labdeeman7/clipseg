{
 "cells": [
  {
   "cell_type": "code",
   "execution_count": null,
   "metadata": {},
   "outputs": [],
   "source": [
    "import yaml"
   ]
  },
  {
   "attachments": {},
   "cell_type": "markdown",
   "metadata": {},
   "source": [
    "sys argv is from the command line, all the things after python.\n",
    "\n",
    "Example printing sys.argv and len(sys.argv)\n",
    "\n",
    "> python print_args.py\n",
    "['print_args.py'] 1\n",
    "\n",
    "> python print_args.py foo and bar\n",
    "['print_args.py', 'foo', 'and', 'bar'] 4\n",
    "\n",
    "> python print_args.py \"foo and bar\"\n",
    "['print_args.py', 'foo and bar'] 2\n",
    "\n",
    "> python print_args.py \"foo and bar\" and baz\n",
    "['print_args.py', 'foo and bar', 'and', 'baz'] \n",
    "\n",
    "First variable is alwaYs the name of the script then everything that follows"
   ]
  },
  {
   "attachments": {},
   "cell_type": "markdown",
   "metadata": {},
   "source": [
    "python training.py phrasecut.yaml 0 argv is [training.py, phrascut.yaml, 0.]"
   ]
  },
  {
   "cell_type": "code",
   "execution_count": null,
   "metadata": {},
   "outputs": [],
   "source": [
    "experiment_name = \"phrasecut.yaml\"\n",
    "experiment_id = 0\n",
    "\n",
    "yaml_config = yaml.load(open(f'experiments/{experiment_name}'), Loader=yaml.SafeLoader) \n",
    "\n",
    "# config = yaml_config['configuration']\n",
    "# config = {**config, **yaml_config['individual_configurations'][experiment_id]}\n",
    "# config = AttributeDict(config)"
   ]
  },
  {
   "cell_type": "code",
   "execution_count": null,
   "metadata": {},
   "outputs": [],
   "source": [
    "yaml_config.keys()"
   ]
  },
  {
   "cell_type": "code",
   "execution_count": null,
   "metadata": {},
   "outputs": [],
   "source": [
    "config = yaml_config['configuration']\n",
    "config"
   ]
  },
  {
   "cell_type": "code",
   "execution_count": null,
   "metadata": {},
   "outputs": [],
   "source": []
  }
 ],
 "metadata": {
  "kernelspec": {
   "display_name": "Python 3",
   "language": "python",
   "name": "python3"
  },
  "language_info": {
   "codemirror_mode": {
    "name": "ipython",
    "version": 3
   },
   "file_extension": ".py",
   "mimetype": "text/x-python",
   "name": "python",
   "nbconvert_exporter": "python",
   "pygments_lexer": "ipython3",
   "version": "3.9.5 (tags/v3.9.5:0a7dcbd, May  3 2021, 17:27:52) [MSC v.1928 64 bit (AMD64)]"
  },
  "orig_nbformat": 4,
  "vscode": {
   "interpreter": {
    "hash": "efbe9435cc8db3e73b5a78638a2554badc033fad4cda795f41c93f6f7edda0a4"
   }
  }
 },
 "nbformat": 4,
 "nbformat_minor": 2
}
