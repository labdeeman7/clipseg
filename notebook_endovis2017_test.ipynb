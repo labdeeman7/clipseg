{
 "cells": [
  {
   "cell_type": "code",
   "execution_count": 28,
   "metadata": {},
   "outputs": [
    {
     "name": "stdout",
     "output_type": "stream",
     "text": [
      "Jaccard (IoU): mean=54.48, std=0.2895\n",
      "Dice: mean=65.34, std=0.2791\n"
     ]
    }
   ],
   "source": [
    "%run -i evaluate.py --problem_type \"binary\""
   ]
  },
  {
   "cell_type": "code",
   "execution_count": 1,
   "metadata": {},
   "outputs": [
    {
     "name": "stderr",
     "output_type": "stream",
     "text": [
      "d:\\PhD\\repositories\\clipseg\\.CLIPSEG\\lib\\site-packages\\tqdm\\auto.py:22: TqdmWarning: IProgress not found. Please update jupyter and ipywidgets. See https://ipywidgets.readthedocs.io/en/stable/user_install.html\n",
      "  from .autonotebook import tqdm as notebook_tqdm\n"
     ]
    },
    {
     "name": "stdout",
     "output_type": "stream",
     "text": [
      "Jaccard (IoU): mean=54.18, std=0.2382\n",
      "Dice: mean=64.42, std=0.2439\n"
     ]
    }
   ],
   "source": [
    "%run -i evaluate.py --problem_type \"instrument\""
   ]
  },
  {
   "cell_type": "code",
   "execution_count": 2,
   "metadata": {},
   "outputs": [
    {
     "name": "stdout",
     "output_type": "stream",
     "text": [
      "Jaccard (IoU): mean=22.45, std=0.1434\n",
      "Dice: mean=31.21, std=0.1673\n"
     ]
    }
   ],
   "source": [
    "%run -i evaluate.py --problem_type \"parts\""
   ]
  },
  {
   "cell_type": "code",
   "execution_count": null,
   "metadata": {},
   "outputs": [],
   "source": []
  }
 ],
 "metadata": {
  "kernelspec": {
   "display_name": ".CLIPSEG",
   "language": "python",
   "name": "python3"
  },
  "language_info": {
   "codemirror_mode": {
    "name": "ipython",
    "version": 3
   },
   "file_extension": ".py",
   "mimetype": "text/x-python",
   "name": "python",
   "nbconvert_exporter": "python",
   "pygments_lexer": "ipython3",
   "version": "3.9.5"
  },
  "orig_nbformat": 4,
  "vscode": {
   "interpreter": {
    "hash": "830aef9cd6859694268c088411cb058faec24a5a65da1f26d3ab795eccfbf0f9"
   }
  }
 },
 "nbformat": 4,
 "nbformat_minor": 2
}
