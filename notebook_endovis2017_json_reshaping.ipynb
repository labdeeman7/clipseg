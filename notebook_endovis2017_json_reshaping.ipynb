{
 "cells": [
  {
   "attachments": {},
   "cell_type": "markdown",
   "metadata": {},
   "source": [
    "I was an idiot that did not realize he had to name his files better. "
   ]
  },
  {
   "cell_type": "code",
   "execution_count": 8,
   "metadata": {},
   "outputs": [],
   "source": [
    "import json\n",
    "import cv2\n",
    "import numpy as np\n",
    "import matplotlib.pyplot as plt\n",
    "from os.path import join\n",
    "import os"
   ]
  },
  {
   "cell_type": "code",
   "execution_count": 2,
   "metadata": {},
   "outputs": [],
   "source": [
    "info = json.load(open(join(\"./datasets/Endovis2017/clipseg_test.json\")))        "
   ]
  },
  {
   "cell_type": "code",
   "execution_count": 3,
   "metadata": {},
   "outputs": [
    {
     "data": {
      "text/plain": [
       "8095"
      ]
     },
     "execution_count": 3,
     "metadata": {},
     "output_type": "execute_result"
    }
   ],
   "source": [
    "len(info)"
   ]
  },
  {
   "attachments": {},
   "cell_type": "markdown",
   "metadata": {},
   "source": [
    "For each id, we get the \n",
    "0. sample_id.\n",
    "1. sequence_name\n",
    "2. file_id\n",
    "3. class_name. \n",
    "4. By problem_type. \n",
    "\n",
    "We need to store all this values into the instrument_list\n",
    "\n",
    "We store all tehse "
   ]
  },
  {
   "cell_type": "code",
   "execution_count": 4,
   "metadata": {},
   "outputs": [],
   "source": [
    "from collections import defaultdict"
   ]
  },
  {
   "attachments": {},
   "cell_type": "markdown",
   "metadata": {},
   "source": [
    "all  = sequence_name_file_id : [(sample_id, class_name, problem_type), () ]\n",
    "parts_list = sequence_name_file_id : [(sample_id, class_name) ]"
   ]
  },
  {
   "cell_type": "code",
   "execution_count": 5,
   "metadata": {},
   "outputs": [],
   "source": [
    "instrument_dict = defaultdict(list)\n",
    "parts_dict = defaultdict(list)\n",
    "binary_dict = defaultdict(list)\n",
    "all_dict = defaultdict(list)\n"
   ]
  },
  {
   "cell_type": "code",
   "execution_count": 9,
   "metadata": {},
   "outputs": [],
   "source": [
    "\n",
    "for i, sample_ref in enumerate(info):\n",
    "    img_path = sample_ref[\"img_path\"]\n",
    "    if os.getcwd() == '/scratch/users/k21168006/clipseg':\n",
    "      seq_name = img_path.split('/')[1]\n",
    "      file_name = img_path.split('/')[3].replace('.png', '')\n",
    "    else:\n",
    "      seq_name = img_path.split('\\\\')[1]\n",
    "      file_name = img_path.split('\\\\')[3].replace('.png', '')  \n",
    "      \n",
    "    sample_id = sample_ref[\"sample_id\"]\n",
    "    class_name = sample_ref[\"class_name\"]\n",
    "    problem_type =  sample_ref[\"problem_type\"]\n",
    "\n",
    "    seq_name_file_name = f\"{seq_name}_{file_name}\"\n",
    "    ref_data = (sample_id, class_name, problem_type)\n",
    "    \n",
    "    all_dict[seq_name_file_name].append(ref_data)\n",
    "\n",
    "    if problem_type == \"instrument\":\n",
    "      instrument_dict[seq_name_file_name].append(ref_data) \n",
    "\n",
    "    if problem_type == \"parts\": \n",
    "       parts_dict[seq_name_file_name].append(ref_data) \n",
    "\n",
    "    if problem_type == \"binary\":  \n",
    "      binary_dict[seq_name_file_name].append(ref_data) "
   ]
  },
  {
   "cell_type": "code",
   "execution_count": 10,
   "metadata": {},
   "outputs": [],
   "source": [
    "with open(\"./datasets/Endovis2017/cropped_test/clipseg_all_data_dict.json\", 'w') as f:\n",
    "    json.dump(all_dict, f)"
   ]
  },
  {
   "cell_type": "code",
   "execution_count": 11,
   "metadata": {},
   "outputs": [],
   "source": [
    "with open(\"./datasets/Endovis2017/cropped_test/clipseg_instrument_dict.json\", 'w') as f:\n",
    "    json.dump(instrument_dict, f)"
   ]
  },
  {
   "cell_type": "code",
   "execution_count": 12,
   "metadata": {},
   "outputs": [],
   "source": [
    "with open(\"./datasets/Endovis2017/cropped_test/clipseg_parts_dict.json\", 'w') as f:\n",
    "    json.dump(parts_dict, f)"
   ]
  },
  {
   "cell_type": "code",
   "execution_count": 13,
   "metadata": {},
   "outputs": [],
   "source": [
    "with open(\"./datasets/Endovis2017/cropped_test/binary_dict.json\", 'w') as f:\n",
    "    json.dump(binary_dict, f)"
   ]
  },
  {
   "cell_type": "code",
   "execution_count": null,
   "metadata": {},
   "outputs": [],
   "source": []
  }
 ],
 "metadata": {
  "kernelspec": {
   "display_name": "CLIPSEG",
   "language": "python",
   "name": "python3"
  },
  "language_info": {
   "codemirror_mode": {
    "name": "ipython",
    "version": 3
   },
   "file_extension": ".py",
   "mimetype": "text/x-python",
   "name": "python",
   "nbconvert_exporter": "python",
   "pygments_lexer": "ipython3",
   "version": "3.10.8 (main, Nov 24 2022, 14:13:03) [GCC 11.2.0]"
  },
  "orig_nbformat": 4,
  "vscode": {
   "interpreter": {
    "hash": "d2167263909aa7626ec1259e2b8bbb8db2c3a024241d3080b2b73206991b3e85"
   }
  }
 },
 "nbformat": 4,
 "nbformat_minor": 2
}
